{
 "cells": [
  {
   "cell_type": "markdown",
   "metadata": {},
   "source": [
    "## 1번 문제"
   ]
  },
  {
   "cell_type": "code",
   "execution_count": 2,
   "metadata": {},
   "outputs": [
    {
     "name": "stdout",
     "output_type": "stream",
     "text": [
      "원의 넓이는: 28.274333882308138\n"
     ]
    }
   ],
   "source": [
    "# 1번 문제\n",
    "import math # 수학적 함수 출력 하기전 import 실행\n",
    "\n",
    "def circlearea(radius):\n",
    "    # 원의 넓이를 계산하는 함수\n",
    "    area = math.pi * radius ** 2 # 원의 함수식\n",
    "    return area # 원의 넓이 리턴 해서 받기\n",
    "\n",
    "def main():\n",
    "    # 반지름 값을 입력 받음\n",
    "    radius = float(input(\"반지름 값을 입력하세요: \")) # 반지름에서 값 했을때, 소수점 생성 가능성 있으므로 = float 함수 사용\n",
    "    \n",
    "    # 원의 넓이 계산\n",
    "    area = circlearea(radius)\n",
    "    \n",
    "    # 결과 출력\n",
    "    print(\"원의 넓이는:\", area)\n",
    "\n",
    "# 프로그램 실행\n",
    "main()\n"
   ]
  },
  {
   "cell_type": "markdown",
   "metadata": {},
   "source": [
    "## 2번 문제"
   ]
  },
  {
   "cell_type": "code",
   "execution_count": 18,
   "metadata": {},
   "outputs": [
    {
     "name": "stdout",
     "output_type": "stream",
     "text": [
      "입력한 영어 이름에 해당하는 행성이 없습니다.\n"
     ]
    }
   ],
   "source": [
    "# 2번 문제\n",
    "def en_kr_planet(en_name):\n",
    "    # 영어 이름과 한글 이름을 매핑한 사전\n",
    "    planet_nm = {\n",
    "        \"Mercury\": \"수성\",\n",
    "        \"Venus\": \"금성\",\n",
    "        \"Earth\": \"지구\",\n",
    "        \"Mars\": \"화성\",\n",
    "        \"Jupiter\": \"목성\",\n",
    "        \"Saturn\": \"토성\",\n",
    "        \"Uranus\": \"천왕성\",\n",
    "        \"Neptune\": \"해왕성\"\n",
    "    }\n",
    "    # 무조건 밑에 출력할때 앞에 문자 대문자 사용! 다 같이 소문자 or 대문자 사용시 \"입력한 영어 이름에 해당하는 행성이 없습니다.\" 나옴\n",
    "\n",
    "    # 입력된 영어 이름에 해당하는 한글 이름 반환, 없으면 None 반환 하기\n",
    "    return planet_nm.get(en_name)\n",
    "\n",
    "def main():\n",
    "    # 영어 행성 이름 입력 받음\n",
    "    en_name = input(\"행성의 영어 이름로 입력: \")\n",
    "    \n",
    "    # 입력된 영어 이름에 해당하는 한글 행성 이름 출력하기\n",
    "    kr_name = en_kr_planet(en_name)\n",
    "    \n",
    "    if kr_name:\n",
    "        print(\"한글 행성 이름은:\", kr_name)\n",
    "    else:\n",
    "        print(\"입력한 영어 이름에 해당하는 행성이 없습니다.\")\n",
    "\n",
    "# 프로그램 실행\n",
    "main()"
   ]
  },
  {
   "cell_type": "markdown",
   "metadata": {},
   "source": [
    "## 3번 문제"
   ]
  },
  {
   "cell_type": "code",
   "execution_count": 19,
   "metadata": {},
   "outputs": [
    {
     "name": "stdout",
     "output_type": "stream",
     "text": [
      "입력한 영어 문자열의 단어의 수는: 9\n",
      "변경된 문자열은: hey, DO you HAVE a CAR in YOUR house?\n"
     ]
    }
   ],
   "source": [
    "# 3번 문제\n",
    "def modify_words(sentence):\n",
    "    words = sentence.split()\n",
    "    modify_sentence = \"\"\n",
    "    word_count = len(words)\n",
    "    \n",
    "    for i, word in enumerate(words): # enumrate = 기본적인 인덱스 + 원소 이루어진 튜플 만들기 위해서 생성\n",
    "        # 짝수 번째 단어인 경우에만 대문자로 변경\n",
    "        if (i + 1) % 2 == 0:\n",
    "            word = word.upper()\n",
    "        modify_sentence += word + \" \"\n",
    "    \n",
    "    return modify_sentence.strip(), word_count\n",
    "\n",
    "def main():\n",
    "    # 영어 문자열 입력 받음\n",
    "    sentence = input(\"영어 문자열을 입력하세요: \")\n",
    "    \n",
    "    # 단어의 수 계산 및 단어 변경\n",
    "    modify_sentence, wrd_count = modify_words(sentence)\n",
    "    \n",
    "    # 결과 출력\n",
    "    print(\"입력한 영어 문자열의 단어의 수는:\", wrd_count)\n",
    "    print(\"변경된 문자열은:\", modify_sentence)\n",
    "\n",
    "# 프로그램 실행\n",
    "main()\n"
   ]
  },
  {
   "cell_type": "markdown",
   "metadata": {},
   "source": [
    "## 4번 문제"
   ]
  },
  {
   "cell_type": "code",
   "execution_count": 11,
   "metadata": {},
   "outputs": [
    {
     "name": "stdout",
     "output_type": "stream",
     "text": [
      "웹사이트 주소는: www.instagram.com\n"
     ]
    }
   ],
   "source": [
    "# 4번 문제\n",
    "def get_url(eng_name):\n",
    "    # 웹사이트 주소를 매핑한 사전\n",
    "    websites = {\n",
    "        \"google\": \"www.google.com\",\n",
    "        \"facebook\": \"www.facebook.com\",\n",
    "        \"twitter\": \"www.twitter.com\",\n",
    "        \"naver\":\"www.naver.com\",\n",
    "        \"instagram\":\"www.instagram.com\"\n",
    "        # 추가적인 웹사이트 주소를 여기에 추가할 수 있습니다.\n",
    "    }\n",
    "    \n",
    "    # 입력된 영문 이름에 해당하는 웹사이트 주소 반환\n",
    "    return websites.get(eng_name)\n",
    "\n",
    "def main():\n",
    "    # 영문 이름 입력 받음\n",
    "    eng_name = input(\"영문 이름을 입력하세요: \")\n",
    "    \n",
    "    # 입력된 영문 이름에 해당하는 웹사이트 주소 가져오기\n",
    "    url = get_url(eng_name)\n",
    "    \n",
    "    if url:\n",
    "        print(\"웹사이트 주소는:\", url) # 위에 주소 매핑 사전에 저장 되있는 이름(?)을 받게 되면 출력되는 문구\n",
    "    else:\n",
    "        print(\"입력한 영문 이름에 해당하는 웹사이트가 없습니다.\") # 위에 주소 매핑 사전에 저장 되있지 않은 이름(?)을 받게 되면 출력되는 문구\n",
    "\n",
    "# 프로그램 실행\n",
    "main()\n"
   ]
  },
  {
   "cell_type": "markdown",
   "metadata": {},
   "source": [
    "## 5번 문제"
   ]
  },
  {
   "cell_type": "code",
   "execution_count": 5,
   "metadata": {},
   "outputs": [
    {
     "name": "stdout",
     "output_type": "stream",
     "text": [
      "5 10 15 20 25 30 35 40 45 \n"
     ]
    }
   ],
   "source": [
    "# 5번문제\n",
    "\n",
    "def printmultitable(num): # table 이름 = printmultitable 사용함\n",
    "    # 입력된 단의 1~9까지의 곱셈 결과 출력 (range 사용)\n",
    "    for i in range(1, 10): \n",
    "        print(num * i, end=\" \")\n",
    "    print()  # 줄 바꿈\n",
    "\n",
    "def main():\n",
    "    # 출력부분에서 -> 구구단의 단 번호 입력 받음\n",
    "    num = int(input(\"구구단의 단 번호를 입력하세요: \")) # 소수점 함수 없음으로 정수값을 받을 수 있는 int 값으로 식 적음\n",
    "    \n",
    "    # 해당하는 단의 9까지의 곱셈 결과 출력\n",
    "    \n",
    "    printmultitable(num)\n",
    "\n",
    "# 프로그램 실행\n",
    "main()"
   ]
  }
 ],
 "metadata": {
  "kernelspec": {
   "display_name": "Python 3",
   "language": "python",
   "name": "python3"
  },
  "language_info": {
   "codemirror_mode": {
    "name": "ipython",
    "version": 3
   },
   "file_extension": ".py",
   "mimetype": "text/x-python",
   "name": "python",
   "nbconvert_exporter": "python",
   "pygments_lexer": "ipython3",
   "version": "3.11.5"
  }
 },
 "nbformat": 4,
 "nbformat_minor": 2
}
