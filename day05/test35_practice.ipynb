{
 "cells": [
  {
   "cell_type": "markdown",
   "metadata": {},
   "source": [
    "# 응용예제 따라하기\n",
    "\n",
    "## 01. IP주소 확인"
   ]
  },
  {
   "cell_type": "code",
   "execution_count": 4,
   "metadata": {},
   "outputs": [],
   "source": [
    "import requests\n",
    "import  re"
   ]
  },
  {
   "cell_type": "code",
   "execution_count": 6,
   "metadata": {},
   "outputs": [
    {
     "name": "stdout",
     "output_type": "stream",
     "text": [
      "IP Address : 210.119.12.74\n"
     ]
    }
   ],
   "source": [
    "req = requests.get(\"http://ipconfig.kr\")\n",
    "out_addr = re.search(r'IP Address : (\\d{1,3}\\.\\d{1,3}\\.\\d{1,3}\\.\\d{1,3})', req.text)[0]\n",
    "print(out_addr)"
   ]
  },
  {
   "cell_type": "code",
   "execution_count": 7,
   "metadata": {},
   "outputs": [
    {
     "name": "stdout",
     "output_type": "stream",
     "text": [
      "\n",
      "Windows IP ����\n",
      "\n",
      "\n",
      "�̴��� ����� �̴���:\n",
      "\n",
      "   ���Ằ DNS ���̻�. . . . : \n",
      "   ��ũ-���� IPv6 �ּ� . . . . : fe80::49ca:5414:169:131d%11\n",
      "   IPv4 �ּ� . . . . . . . . . : 210.119.12.74\n",
      "   ����� ����ũ . . . . . . . : 255.255.255.0\n",
      "   �⺻ ����Ʈ���� . . . . . . : 210.119.12.1\n"
     ]
    }
   ],
   "source": [
    "!ipconfig"
   ]
  },
  {
   "cell_type": "code",
   "execution_count": 1,
   "metadata": {},
   "outputs": [
    {
     "name": "stdout",
     "output_type": "stream",
     "text": [
      "210.119.12.74\n"
     ]
    }
   ],
   "source": [
    "import socket\n",
    "\n",
    "inaddr = socket.gethostbyname(socket.gethostname())\n",
    "\n",
    "print(inaddr)"
   ]
  },
  {
   "cell_type": "code",
   "execution_count": 2,
   "metadata": {},
   "outputs": [
    {
     "name": "stdout",
     "output_type": "stream",
     "text": [
      "210.119.12.74\n"
     ]
    }
   ],
   "source": [
    "import socket\n",
    "\n",
    "inaddr = socket.socket(socket.AF_INET, socket.SOCK_STREAM)\n",
    "inaddr.connect((\"www.google.co.kr\", 443))\n",
    "print(inaddr.getsockname()[0])"
   ]
  },
  {
   "cell_type": "code",
   "execution_count": 3,
   "metadata": {},
   "outputs": [
    {
     "name": "stdout",
     "output_type": "stream",
     "text": [
      "210.119.12.74\n"
     ]
    }
   ],
   "source": [
    "import requests\n",
    "import re # 정규식 personal@naver.com, ceo@gmail.com = 규칙을 찾아내서 person!naver.com\n",
    "\n",
    "req = requests.get(\"http://ipconfig.kr\")\n",
    "outaddr = re.search(r'IP Address : (\\d{1,3}\\.\\d{1,3}\\.\\d{1,3}\\.\\d{1,3})', req.text)[1]\n",
    "print(outaddr)"
   ]
  },
  {
   "cell_type": "markdown",
   "metadata": {},
   "source": [
    "## 02 QR 코드 생성\n",
    "\n",
    "### qr code 모듈 추가\n"
   ]
  },
  {
   "cell_type": "code",
   "execution_count": 1,
   "metadata": {},
   "outputs": [
    {
     "name": "stdout",
     "output_type": "stream",
     "text": [
      "Collecting qrcode\n",
      "  Downloading qrcode-7.4.2-py3-none-any.whl (46 kB)\n",
      "     ---------------------------------------- 0.0/46.2 kB ? eta -:--:--\n",
      "     ---------------- --------------------- 20.5/46.2 kB 682.7 kB/s eta 0:00:01\n",
      "     -------------------------------------- 46.2/46.2 kB 580.0 kB/s eta 0:00:00\n",
      "Collecting typing-extensions (from qrcode)\n",
      "  Downloading typing_extensions-4.9.0-py3-none-any.whl.metadata (3.0 kB)\n",
      "Collecting pypng (from qrcode)\n",
      "  Downloading pypng-0.20220715.0-py3-none-any.whl (58 kB)\n",
      "     ---------------------------------------- 0.0/58.1 kB ? eta -:--:--\n",
      "     ---------------------------------------- 58.1/58.1 kB 3.0 MB/s eta 0:00:00\n",
      "Requirement already satisfied: colorama in c:\\dev-roy\\langs\\python311\\lib\\site-packages (from qrcode) (0.4.6)\n",
      "Downloading typing_extensions-4.9.0-py3-none-any.whl (32 kB)\n",
      "Installing collected packages: pypng, typing-extensions, qrcode\n",
      "Successfully installed pypng-0.20220715.0 qrcode-7.4.2 typing-extensions-4.9.0\n"
     ]
    }
   ],
   "source": [
    "!pip install qrcode"
   ]
  },
  {
   "cell_type": "code",
   "execution_count": 2,
   "metadata": {},
   "outputs": [],
   "source": [
    "import qrcode"
   ]
  },
  {
   "cell_type": "code",
   "execution_count": 11,
   "metadata": {},
   "outputs": [],
   "source": [
    "# QR 코드 생성\n",
    "origin_data = 'https://www.naver.com' # qrcode 생성할 텍스트 지정\n",
    "qrcode_img = qrcode.make(origin_data)"
   ]
  },
  {
   "cell_type": "code",
   "execution_count": 12,
   "metadata": {},
   "outputs": [],
   "source": [
    "# qrcode 객체 생성\n",
    "qr = qrcode.QRCode(version=1, error_correction=qrcode.ERROR_CORRECT_L,\n",
    "                   box_size=10, border=4)"
   ]
  },
  {
   "cell_type": "code",
   "execution_count": 15,
   "metadata": {},
   "outputs": [],
   "source": [
    "qr.add_data(origin_data)\n",
    "qr.make(fit=True)\n",
    "# qrcode에 들어갈 데이터를 추가"
   ]
  },
  {
   "cell_type": "code",
   "execution_count": 16,
   "metadata": {},
   "outputs": [],
   "source": [
    "img = qr.make_image(fill_color='black', back_color='white')\n",
    "# image 를 생성"
   ]
  },
  {
   "cell_type": "code",
   "execution_count": 19,
   "metadata": {},
   "outputs": [],
   "source": [
    "#image save\n",
    "img.save('./qrcode01.png')"
   ]
  },
  {
   "cell_type": "code",
   "execution_count": null,
   "metadata": {},
   "outputs": [],
   "source": []
  }
 ],
 "metadata": {
  "kernelspec": {
   "display_name": "Python 3",
   "language": "python",
   "name": "python3"
  },
  "language_info": {
   "codemirror_mode": {
    "name": "ipython",
    "version": 3
   },
   "file_extension": ".py",
   "mimetype": "text/x-python",
   "name": "python",
   "nbconvert_exporter": "python",
   "pygments_lexer": "ipython3",
   "version": "3.11.5"
  }
 },
 "nbformat": 4,
 "nbformat_minor": 2
}
