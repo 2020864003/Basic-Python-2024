{
 "cells": [
  {
   "cell_type": "markdown",
   "metadata": {},
   "source": [
    "# 응용예제 따라하기"
   ]
  },
  {
   "cell_type": "code",
   "execution_count": 4,
   "metadata": {},
   "outputs": [],
   "source": [
    "import requests\n",
    "import  re"
   ]
  },
  {
   "cell_type": "code",
   "execution_count": null,
   "metadata": {},
   "outputs": [],
   "source": [
    "req = requests.get(\"http://ipconfig.kr\")\n",
    "out_addr = re.search(r'IP Address : (\\d{1,3}\\.\\d{1,3}\\.\\d{1,3}\\.\\d{1,3})', req.text)[1]\n",
    "print(out_addr)"
   ]
  },
  {
   "cell_type": "code",
   "execution_count": 1,
   "metadata": {},
   "outputs": [
    {
     "name": "stdout",
     "output_type": "stream",
     "text": [
      "210.119.12.74\n"
     ]
    }
   ],
   "source": [
    "import socket\n",
    "\n",
    "inaddr = socket.gethostbyname(socket.gethostname())\n",
    "\n",
    "print(inaddr)"
   ]
  },
  {
   "cell_type": "code",
   "execution_count": 2,
   "metadata": {},
   "outputs": [
    {
     "name": "stdout",
     "output_type": "stream",
     "text": [
      "210.119.12.74\n"
     ]
    }
   ],
   "source": [
    "import socket\n",
    "\n",
    "inaddr = socket.socket(socket.AF_INET, socket.SOCK_STREAM)\n",
    "inaddr.connect((\"www.google.co.kr\", 443))\n",
    "print(inaddr.getsockname()[0])"
   ]
  },
  {
   "cell_type": "code",
   "execution_count": 3,
   "metadata": {},
   "outputs": [
    {
     "name": "stdout",
     "output_type": "stream",
     "text": [
      "210.119.12.74\n"
     ]
    }
   ],
   "source": [
    "import requests\n",
    "import re # 정규식 personal@naver.com, ceo@gmail.com = 규칙을 찾아내서 person!naver.com\n",
    "\n",
    "req = requests.get(\"http://ipconfig.kr\")\n",
    "outaddr = re.search(r'IP Address : (\\d{1,3}\\.\\d{1,3}\\.\\d{1,3}\\.\\d{1,3})', req.text)[1]\n",
    "print(outaddr)"
   ]
  }
 ],
 "metadata": {
  "kernelspec": {
   "display_name": "Python 3",
   "language": "python",
   "name": "python3"
  },
  "language_info": {
   "codemirror_mode": {
    "name": "ipython",
    "version": 3
   },
   "file_extension": ".py",
   "mimetype": "text/x-python",
   "name": "python",
   "nbconvert_exporter": "python",
   "pygments_lexer": "ipython3",
   "version": "3.11.5"
  }
 },
 "nbformat": 4,
 "nbformat_minor": 2
}
