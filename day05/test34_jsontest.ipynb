{
 "cells": [
  {
   "cell_type": "markdown",
   "metadata": {},
   "source": [
    "## JSON IMPUT OUTPUT\n",
    "JSON 읽고 쓰기\n",
    "\n",
    "### JSON FORMAT"
   ]
  },
  {
   "cell_type": "code",
   "execution_count": 1,
   "metadata": {},
   "outputs": [],
   "source": [
    "## FILE : test34_json_test.ipynb\n",
    "## desc : json 예제\n",
    "\n",
    "json_ex='{\"Name\" : \"Roy\", \"Age\" : 28 }'\n"
   ]
  },
  {
   "cell_type": "markdown",
   "metadata": {},
   "source": [
    "### JSON 읽기\n",
    "\n",
    "json 모듈가져 오기 "
   ]
  },
  {
   "cell_type": "code",
   "execution_count": 8,
   "metadata": {},
   "outputs": [],
   "source": [
    "import json"
   ]
  },
  {
   "cell_type": "code",
   "execution_count": 12,
   "metadata": {},
   "outputs": [
    {
     "name": "stdout",
     "output_type": "stream",
     "text": [
      "{\"IONIQ\": {\"price\": 25000000, \"year\": \"2016\", \"auto\": true}, \"GENESIS\": {\"price\": 80000000, \"year\": \"2022\", \"auto\": true}, \"Ferrari\": {\"price\": 150000000, \"year\": \"2019\", \"auto\": false}}\n"
     ]
    }
   ],
   "source": [
    "file = open('../day05/car.json', 'r', encoding='utf-8') ## 최초에는 파일 IO 사용\n",
    "jsondata = json.load(file)\n",
    "print(json.dumps(jsondata)) ## dump => 문자열로 변경(enter 공백 제외 시키기)\n",
    "\n",
    "file.close()"
   ]
  },
  {
   "cell_type": "code",
   "execution_count": 18,
   "metadata": {},
   "outputs": [
    {
     "name": "stdout",
     "output_type": "stream",
     "text": [
      "{'IONIQ': {'price': 25000000, 'year': '2016', 'auto': True}, 'GENESIS': {'price': 80000000, 'year': '2022', 'auto': True}, 'Ferrari': {'price': 150000000, 'year': '2019', 'auto': False}}\n"
     ]
    }
   ],
   "source": [
    "file = open('../day05/car.json', mode='r', encoding='utf-8') ## 최초에는 파일 IO 사용\n",
    "data = json.load(file)\n",
    "file.close()\n",
    "\n",
    "print(data) ## dump랑 같음"
   ]
  },
  {
   "cell_type": "code",
   "execution_count": 14,
   "metadata": {},
   "outputs": [
    {
     "data": {
      "text/plain": [
       "{'IONIQ': {'price': 25000000, 'year': '2016', 'auto': True},\n",
       " 'GENESIS': {'price': 80000000, 'year': '2022', 'auto': True},\n",
       " 'Ferrari': {'price': 150000000, 'year': '2019', 'auto': False}}"
      ]
     },
     "execution_count": 14,
     "metadata": {},
     "output_type": "execute_result"
    }
   ],
   "source": [
    "file = open('../day05/car.json', mode='r', encoding='utf-8') ## 최초에는 파일 IO 사용\n",
    "data = json.load(file)\n",
    "file.close()\n",
    "\n",
    "data "
   ]
  },
  {
   "cell_type": "code",
   "execution_count": 17,
   "metadata": {},
   "outputs": [
    {
     "name": "stdout",
     "output_type": "stream",
     "text": [
      "{\n",
      "\t\"IONIQ\": {\n",
      "\t\t\"price\": 25000000,\n",
      "\t\t\"year\": \"2016\",\n",
      "\t\t\"auto\": true\n",
      "\t},\n",
      "\t\"GENESIS\": {\n",
      "\t\t\"price\": 80000000,\n",
      "\t\t\"year\": \"2022\",\n",
      "\t\t\"auto\": true\n",
      "\t},\n",
      "\t\"Ferrari\": {\n",
      "\t\t\"price\": 150000000,\n",
      "\t\t\"year\": \"2019\",\n",
      "\t\t\"auto\": false\n",
      "\t}\n",
      "}\n"
     ]
    }
   ],
   "source": [
    "print(json.dumps(data, indent='\\t')) ## file읽기"
   ]
  }
 ],
 "metadata": {
  "kernelspec": {
   "display_name": "Python 3",
   "language": "python",
   "name": "python3"
  },
  "language_info": {
   "codemirror_mode": {
    "name": "ipython",
    "version": 3
   },
   "file_extension": ".py",
   "mimetype": "text/x-python",
   "name": "python",
   "nbconvert_exporter": "python",
   "pygments_lexer": "ipython3",
   "version": "3.11.5"
  }
 },
 "nbformat": 4,
 "nbformat_minor": 2
}
