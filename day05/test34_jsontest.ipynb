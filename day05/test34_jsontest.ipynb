{
 "cells": [
  {
   "cell_type": "markdown",
   "metadata": {},
   "source": [
    "## JSON IMPUT OUTPUT\n",
    "JSON 읽고 쓰기\n",
    "\n",
    "### JSON FORMAT"
   ]
  },
  {
   "cell_type": "code",
   "execution_count": 1,
   "metadata": {},
   "outputs": [],
   "source": [
    "## FILE : test34_json_test.ipynb\n",
    "## desc : json 예제\n",
    "\n",
    "json_ex='{\"Name\" : \"Roy\", \"Age\" : 28 }'\n"
   ]
  },
  {
   "cell_type": "markdown",
   "metadata": {},
   "source": [
    "### JSON 읽기\n",
    "\n",
    "json 모듈가져 오기 "
   ]
  },
  {
   "cell_type": "code",
   "execution_count": 20,
   "metadata": {},
   "outputs": [],
   "source": [
    "import json"
   ]
  },
  {
   "cell_type": "code",
   "execution_count": 21,
   "metadata": {},
   "outputs": [
    {
     "name": "stdout",
     "output_type": "stream",
     "text": [
      "{\"IONIQ\": {\"price\": 25000000, \"year\": \"2016\", \"auto\": true}, \"GENESIS\": {\"price\": 80000000, \"year\": \"2022\", \"auto\": true}, \"Ferrari\": {\"price\": 150000000, \"year\": \"2019\", \"auto\": false}}\n"
     ]
    }
   ],
   "source": [
    "file = open('../day05/car.json', 'r', encoding='utf-8') ## 최초에는 파일 IO 사용\n",
    "jsondata = json.load(file)\n",
    "print(json.dumps(jsondata)) ## dump => 문자열로 변경(enter 공백 제외 시키기)\n",
    "\n",
    "file.close()"
   ]
  },
  {
   "cell_type": "code",
   "execution_count": 22,
   "metadata": {},
   "outputs": [
    {
     "name": "stdout",
     "output_type": "stream",
     "text": [
      "{'IONIQ': {'price': 25000000, 'year': '2016', 'auto': True}, 'GENESIS': {'price': 80000000, 'year': '2022', 'auto': True}, 'Ferrari': {'price': 150000000, 'year': '2019', 'auto': False}}\n"
     ]
    }
   ],
   "source": [
    "file = open('../day05/car.json', mode='r', encoding='utf-8') ## 최초에는 파일 IO 사용\n",
    "data = json.load(file)\n",
    "file.close()\n",
    "\n",
    "print(data) ## dump랑 같음"
   ]
  },
  {
   "cell_type": "code",
   "execution_count": 25,
   "metadata": {},
   "outputs": [
    {
     "data": {
      "text/plain": [
       "{'IONIQ': {'price': 25000000, 'year': '2016', 'auto': True},\n",
       " 'GENESIS': {'price': 80000000, 'year': '2022', 'auto': True},\n",
       " 'Ferrari': {'price': 150000000, 'year': '2019', 'auto': False}}"
      ]
     },
     "execution_count": 25,
     "metadata": {},
     "output_type": "execute_result"
    }
   ],
   "source": [
    "file = open('../day05/car.json', mode='r', encoding='utf-8') ## 최초에는 파일 IO 사용\n",
    "data = json.load(file)\n",
    "file.close()\n",
    "\n",
    "data "
   ]
  },
  {
   "cell_type": "code",
   "execution_count": 24,
   "metadata": {},
   "outputs": [
    {
     "name": "stdout",
     "output_type": "stream",
     "text": [
      "{\n",
      "\t\"IONIQ\": {\n",
      "\t\t\"price\": 25000000,\n",
      "\t\t\"year\": \"2016\",\n",
      "\t\t\"auto\": true\n",
      "\t},\n",
      "\t\"GENESIS\": {\n",
      "\t\t\"price\": 80000000,\n",
      "\t\t\"year\": \"2022\",\n",
      "\t\t\"auto\": true\n",
      "\t},\n",
      "\t\"Ferrari\": {\n",
      "\t\t\"price\": 150000000,\n",
      "\t\t\"year\": \"2019\",\n",
      "\t\t\"auto\": false\n",
      "\t}\n",
      "}\n"
     ]
    }
   ],
   "source": [
    "print(json.dumps(data, indent='\\t')) ## file읽기"
   ]
  },
  {
   "cell_type": "markdown",
   "metadata": {},
   "source": [
    "### json 사용\n",
    "- 파이썬의 딕셔너리 사용방법이 동일"
   ]
  },
  {
   "cell_type": "code",
   "execution_count": 28,
   "metadata": {},
   "outputs": [
    {
     "data": {
      "text/plain": [
       "{'price': 25000000, 'year': '2016', 'auto': True}"
      ]
     },
     "execution_count": 28,
     "metadata": {},
     "output_type": "execute_result"
    }
   ],
   "source": [
    "data['IONIQ']"
   ]
  },
  {
   "cell_type": "code",
   "execution_count": 29,
   "metadata": {},
   "outputs": [
    {
     "data": {
      "text/plain": [
       "{'IONIQ': {'price': 25000000, 'year': '2016', 'auto': True},\n",
       " 'GENESIS': {'price': 80000000, 'year': '2022', 'auto': True},\n",
       " 'Ferrari': {'price': 150000000, 'year': '2019', 'auto': False}}"
      ]
     },
     "execution_count": 29,
     "metadata": {},
     "output_type": "execute_result"
    }
   ],
   "source": [
    "data"
   ]
  },
  {
   "cell_type": "code",
   "execution_count": 30,
   "metadata": {},
   "outputs": [],
   "source": [
    "data['IONIQ']['auto'] = True"
   ]
  },
  {
   "cell_type": "markdown",
   "metadata": {},
   "source": [
    "## JSON 쓰기"
   ]
  },
  {
   "cell_type": "code",
   "execution_count": 33,
   "metadata": {},
   "outputs": [
    {
     "data": {
      "text/plain": [
       "{'Audi': {'price': '1000000000000', 'year': '2020', 'auto': True},\n",
       " 'Porsche': {'price': '25000000000', 'year': '2023', 'auto': True}}"
      ]
     },
     "execution_count": 33,
     "metadata": {},
     "output_type": "execute_result"
    }
   ],
   "source": [
    "# JSON 으로 만든 기본 데이터 생성\n",
    "supercars = dict() # json은 딕셔너리랑 완전히 일치, 생성시도 딕셔너리로 생성\n",
    "\n",
    "Audi = dict() # 내부데이터도 딕셔너리\n",
    "\n",
    "Audi['price'] = '1000000000000'\n",
    "Audi['year'] = '2020'\n",
    "Audi['auto'] = True\n",
    "\n",
    "Porsche = dict()\n",
    "\n",
    "Porsche['price'] = '25000000000'\n",
    "Porsche['year'] = '2023'\n",
    "Porsche['auto'] = True\n",
    "\n",
    "supercars['Audi'] = Audi\n",
    "supercars['Porsche'] = Porsche\n",
    "\n",
    "supercars"
   ]
  },
  {
   "cell_type": "code",
   "execution_count": 34,
   "metadata": {},
   "outputs": [],
   "source": [
    "## JSON 파일 쓰기 \n",
    "\n",
    "f = open('./supercars.json', mode='w', encoding='utf-8')\n",
    "json.dump(supercars,f, indent='\\t', ensure_ascii=True)\n",
    "f.close()"
   ]
  },
  {
   "cell_type": "code",
   "execution_count": 40,
   "metadata": {},
   "outputs": [],
   "source": [
    "## with -> 나는 클로즈를 내가 하고 싶지 않다! python이 해줘\n",
    "with open('./supercars2.json', mode='w', encoding='utf-8') as f2:\n",
    "    json.dump(supercars,f2, indent='\\t', ensure_ascii=True)"
   ]
  },
  {
   "cell_type": "code",
   "execution_count": 41,
   "metadata": {},
   "outputs": [
    {
     "name": "stdout",
     "output_type": "stream",
     "text": [
      "{\n",
      "\t\"audi\": {\n",
      "\t\t\"price\": 300000000,\n",
      "\t\t\"year\": \"2020\"\n",
      "\t},\n",
      "\t\"porsche\": {\n",
      "\t\t\"price\": 1500000000,\n",
      "\t\t\"year\": \"2015\"\n",
      "\t}\n",
      "}\n"
     ]
    }
   ],
   "source": [
    "## json 파일 읽어옴, with문 사용\n",
    "\n",
    "import json\n",
    "\n",
    "supercars = dict() # 딕셔너리 생성\n",
    "\n",
    "audi = dict()\n",
    "audi['price'] = 300000000\n",
    "audi['year'] = '2020'\n",
    "supercars['audi'] = audi\n",
    "\n",
    "porsche = dict()\n",
    "porsche['price'] = 1500000000\n",
    "porsche['year'] = '2015'\n",
    "supercars['porsche'] = porsche\n",
    "\n",
    "# json 파일로 저장\n",
    "with open('./supercar.json', 'w', encoding='utf-8') as file:\n",
    "   json.dump(supercars, file, indent='\\t', ensure_ascii=True)\n",
    "\n",
    "# json 파일 로드\n",
    "with open('./supercar.json', 'r', encoding='utf-8') as file:\n",
    "   json_data = json.load(file)\n",
    "\n",
    "print(json.dumps(json_data, indent='\\t'))"
   ]
  }
 ],
 "metadata": {
  "kernelspec": {
   "display_name": "Python 3",
   "language": "python",
   "name": "python3"
  },
  "language_info": {
   "codemirror_mode": {
    "name": "ipython",
    "version": 3
   },
   "file_extension": ".py",
   "mimetype": "text/x-python",
   "name": "python",
   "nbconvert_exporter": "python",
   "pygments_lexer": "ipython3",
   "version": "3.11.5"
  }
 },
 "nbformat": 4,
 "nbformat_minor": 2
}
