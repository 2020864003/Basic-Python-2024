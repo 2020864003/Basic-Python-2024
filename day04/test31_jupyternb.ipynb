{
 "cells": [
  {
   "cell_type": "markdown",
   "metadata": {},
   "source": [
    "# 주피터 노트북\n",
    "## 주피터 노트북 개요\n",
    "주피터 노트북(Jupyter)에 대한 학습\n",
    "\n",
    "# Jupyter Notebook 이란\n",
    "- 2015년 주피터 재단에서 만든 오픈 소스 과학연구 목적 개발 플랫폼 \n",
    "- https://jupyter.org/"
   ]
  },
  {
   "cell_type": "markdown",
   "metadata": {},
   "source": [
    "### Jupyter Notebook 시작\n",
    "- VS code > 보기 > 명령 팔레트...(CTRL + SHIFT + P) 시작\n",
    "- CREATE : 새 주피터 노트북 클릭\n",
    "- UNTILTED-1.ipynb 를 저장"
   ]
  },
  {
   "cell_type": "markdown",
   "metadata": {},
   "source": [
    "### 주피터 노트북 영역\n",
    "- 코드 : 파이썬 등 소스코드 작성, 실행 공간\n",
    "- 마크다운 : 마크다운 설명 작성 공간"
   ]
  },
  {
   "cell_type": "markdown",
   "metadata": {},
   "source": [
    "#### 출력\n",
    "- CTRL + F5 실행은 안함 (터미널 사용하지 않음)\n",
    "- print() 함수는 옵션(단, 노트북에서만 허용. .py에서는 반드시 print() 만 허용)"
   ]
  },
  {
   "cell_type": "code",
   "execution_count": 1,
   "metadata": {},
   "outputs": [
    {
     "name": "stdout",
     "output_type": "stream",
     "text": [
      "Hello, Jupyter!\n"
     ]
    }
   ],
   "source": [
    "print('Hello, Jupyter!')"
   ]
  },
  {
   "cell_type": "code",
   "execution_count": 2,
   "metadata": {},
   "outputs": [
    {
     "data": {
      "text/plain": [
       "'Hello, Jupyter'"
      ]
     },
     "execution_count": 2,
     "metadata": {},
     "output_type": "execute_result"
    }
   ],
   "source": [
    "'Hello, Jupyter'"
   ]
  },
  {
   "cell_type": "code",
   "execution_count": 3,
   "metadata": {},
   "outputs": [
    {
     "name": "stdout",
     "output_type": "stream",
     "text": [
      "10\n"
     ]
    }
   ],
   "source": [
    "a = 10\n",
    "print(a)"
   ]
  },
  {
   "cell_type": "markdown",
   "metadata": {},
   "source": [
    "### 주피터 노트북 단축키\n",
    "- 셀 선택 모드\n",
    "    - b : 아래에 새로운 셀 추가\n",
    "    - m : 마크다운 셀로 변경\n",
    "    - y : 코드 셀로 변경\n",
    "    - Shift + L : 라인 번호 토글\n",
    "\n",
    "- 코드 입력 모드\n",
    "    - Ctrl + Alt + Enter : 마크다운 셀은 종료, 코드 셀 실행\n",
    "    - Shift + Enter : 현재셀 닫고, 아래 새 셀을 생성\n",
    "    - Ctrl + / : 주석처리"
   ]
  },
  {
   "cell_type": "markdown",
   "metadata": {},
   "source": []
  }
 ],
 "metadata": {
  "kernelspec": {
   "display_name": "Python 3",
   "language": "python",
   "name": "python3"
  },
  "language_info": {
   "codemirror_mode": {
    "name": "ipython",
    "version": 3
   },
   "file_extension": ".py",
   "mimetype": "text/x-python",
   "name": "python",
   "nbconvert_exporter": "python",
   "pygments_lexer": "ipython3",
   "version": "3.11.5"
  }
 },
 "nbformat": 4,
 "nbformat_minor": 2
}
